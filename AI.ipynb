{
  "nbformat": 4,
  "nbformat_minor": 0,
  "metadata": {
    "colab": {
      "provenance": [],
      "authorship_tag": "ABX9TyNqRtk8/46/CHjl7SLj9uIi",
      "include_colab_link": true
    },
    "kernelspec": {
      "name": "python3",
      "display_name": "Python 3"
    },
    "language_info": {
      "name": "python"
    }
  },
  "cells": [
    {
      "cell_type": "markdown",
      "metadata": {
        "id": "view-in-github",
        "colab_type": "text"
      },
      "source": [
        "<a href=\"https://colab.research.google.com/github/Diyaa-lacoul/Ai-Coursework/blob/main/AI.ipynb\" target=\"_parent\"><img src=\"https://colab.research.google.com/assets/colab-badge.svg\" alt=\"Open In Colab\"/></a>"
      ]
    },
    {
      "cell_type": "code",
      "execution_count": 1,
      "metadata": {
        "id": "JlOL5NYW70uX"
      },
      "outputs": [],
      "source": [
        "import pandas as pd\n",
        "import numpy as np\n",
        "import matplotlib.pyplot as plt\n",
        "import seaborn as sns\n",
        "from sklearn.model_selection import train_test_split\n",
        "from sklearn.linear_model import LogisticRegression\n",
        "from sklearn.metrics import confusion_matrix, classification_report, accuracy_score, precision_score, recall_score, f1_score, roc_curve, auc\n",
        "from sklearn.preprocessing import StandardScaler\n",
        "from sklearn.model_selection import cross_val_score\n",
        "\n"
      ]
    },
    {
      "cell_type": "code",
      "source": [
        "# Loading dataset\n",
        "df = pd.read_csv('/content/Dengue Data.csv')"
      ],
      "metadata": {
        "id": "WAz4Jxl-BXhQ"
      },
      "execution_count": 3,
      "outputs": []
    },
    {
      "cell_type": "code",
      "source": [
        "# Exploring data and visualization\n",
        "print(\"Dataset Info:\")\n",
        "print(df.info())\n",
        "print(\"\\nSummary Statistics:\")\n",
        "print(df.describe())\n",
        "\n",
        "# Checking for null values\n",
        "print(\"\\nMissing Values:\")\n",
        "print(df.isnull().sum())"
      ],
      "metadata": {
        "colab": {
          "base_uri": "https://localhost:8080/"
        },
        "id": "xlFWDs-aBxcy",
        "outputId": "81030bd8-aa60-4009-a87d-017ba76ab75a"
      },
      "execution_count": 4,
      "outputs": [
        {
          "output_type": "stream",
          "name": "stdout",
          "text": [
            "Dataset Info:\n",
            "<class 'pandas.core.frame.DataFrame'>\n",
            "RangeIndex: 731 entries, 0 to 730\n",
            "Data columns (total 8 columns):\n",
            " #   Column       Non-Null Count  Dtype  \n",
            "---  ------       --------------  -----  \n",
            " 0   Date         731 non-null    object \n",
            " 1   Date.1       731 non-null    object \n",
            " 2   Time         731 non-null    int64  \n",
            " 3   Case         731 non-null    int64  \n",
            " 4   Rainfall     731 non-null    float64\n",
            " 5   Temperature  731 non-null    float64\n",
            " 6   Humidity     731 non-null    float64\n",
            " 7   Wind         731 non-null    float64\n",
            "dtypes: float64(4), int64(2), object(2)\n",
            "memory usage: 45.8+ KB\n",
            "None\n",
            "\n",
            "Summary Statistics:\n",
            "             Time         Case    Rainfall  Temperature    Humidity  \\\n",
            "count  731.000000   731.000000  731.000000   731.000000  731.000000   \n",
            "mean   366.000000   274.835841    5.081669    26.940575   73.672367   \n",
            "std    211.165812   287.512102   12.262097     4.232607   15.068418   \n",
            "min      1.000000     0.000000    0.000000    15.100000   27.000000   \n",
            "25%    183.500000    41.500000    0.000000    23.500000   63.500000   \n",
            "50%    366.000000   232.000000    0.000000    28.400000   76.500000   \n",
            "75%    548.500000   357.000000    3.400000    30.300000   85.500000   \n",
            "max    731.000000  1224.000000  118.000000    34.000000  100.000000   \n",
            "\n",
            "             Wind  \n",
            "count  731.000000  \n",
            "mean     4.017784  \n",
            "std      4.327005  \n",
            "min      0.000000  \n",
            "25%      1.000000  \n",
            "50%      2.500000  \n",
            "75%      5.500000  \n",
            "max     32.000000  \n",
            "\n",
            "Missing Values:\n",
            "Date           0\n",
            "Date.1         0\n",
            "Time           0\n",
            "Case           0\n",
            "Rainfall       0\n",
            "Temperature    0\n",
            "Humidity       0\n",
            "Wind           0\n",
            "dtype: int64\n"
          ]
        }
      ]
    }
  ]
}